{
 "cells": [
  {
   "cell_type": "code",
   "execution_count": 5,
   "id": "f02cfee3",
   "metadata": {},
   "outputs": [],
   "source": [
    "import pandas as pd\n",
    "\n",
    "# Creamos un DataFrame de ejemplo\n",
    "o3df = pd.read_csv('O3_media_mensual.csv')\n",
    "pm1o_df = pd.read_csv('PM10_media_mensual.csv')\n",
    "so2_df = pd.read_csv('SO2_media_mensual.csv')\n",
    "co_df = pd.read_csv('CO_media_mensual.csv')\n",
    "\n",
    "\n",
    "def clasificar_o3(valor):\n",
    "    if valor < 51:\n",
    "        return 1\n",
    "    elif valor < 70:\n",
    "        return 2\n",
    "    elif valor < 92:\n",
    "        return 3\n",
    "    elif valor < 114:\n",
    "        return 4\n",
    "    else:\n",
    "        return 5\n",
    "    \n",
    "\n",
    "def clasificar_PM10(valor):\n",
    "    if valor < 50:\n",
    "        return 1\n",
    "    elif valor < 75:\n",
    "        return 2\n",
    "    elif valor < 155:\n",
    "        return 3\n",
    "    elif valor < 235:\n",
    "        return 4\n",
    "    else:\n",
    "        return 5\n",
    "\n",
    "def clasificar_SO2(valor):\n",
    "    if valor < 8:\n",
    "        return 1\n",
    "    elif valor < 110:\n",
    "        return 2\n",
    "    elif valor < 165:\n",
    "        return 3\n",
    "    elif valor < 220:\n",
    "        return 4\n",
    "    else:\n",
    "        return 5\n",
    "\n",
    "co_df.fillna(0.0, inplace=True)\n",
    "\n",
    "\n",
    "def clasificar_CO(valor):\n",
    "    if valor < 8.75:\n",
    "        return 1\n",
    "    elif valor < 11:\n",
    "        return 2\n",
    "    elif valor < 13.30:\n",
    "        return 3\n",
    "    elif valor < 15:\n",
    "        return 4\n",
    "    else:\n",
    "        return 5\n",
    "\n",
    "o3df['Flag_O3'] = o3df['O3'].apply(clasificar_o3)\n",
    "o3df.to_csv('O3_media_mensual_Flag.csv', index=False)\n",
    "\n",
    "pm1o_df['Flag_PM10'] = pm1o_df['PM10'].apply(clasificar_PM10)\n",
    "pm1o_df.to_csv('PM10_media_mensual_Flag.csv', index=False)\n",
    "\n",
    "so2_df['Flag_SO2'] = so2_df['SO2'].apply(clasificar_SO2)\n",
    "so2_df.to_csv('SO2_media_mensual_Flag.csv', index=False)\n",
    "\n",
    "co_df['Flag_CO'] = co_df['CO'].apply(clasificar_CO)\n",
    "co_df.to_csv('CO_media_mensual_Flag.csv', index=False)\n"
   ]
  },
  {
   "cell_type": "code",
   "execution_count": 6,
   "id": "8ab2f35d",
   "metadata": {},
   "outputs": [
    {
     "data": {
      "text/plain": [
       "array([[<Axes: title={'center': 'O3'}>,\n",
       "        <Axes: title={'center': 'Flag_O3'}>]], dtype=object)"
      ]
     },
     "execution_count": 6,
     "metadata": {},
     "output_type": "execute_result"
    },
    {
     "data": {
      "image/png": "[encoded data removed]",
      "text/plain": [
       "<Figure size 640x480 with 2 Axes>"
      ]
     },
     "metadata": {},
     "output_type": "display_data"
    }
   ],
   "source": [
    "o3df.hist()"
   ]
  },
  {
   "cell_type": "code",
   "execution_count": null,
   "id": "881fc959",
   "metadata": {},
   "outputs": [],
   "source": []
  }
 ],
 "metadata": {
  "kernelspec": {
   "display_name": "Python 3 (ipykernel)",
   "language": "python",
   "name": "python3"
  },
  "language_info": {
   "codemirror_mode": {
    "name": "ipython",
    "version": 3
   },
   "file_extension": ".py",
   "mimetype": "text/x-python",
   "name": "python",
   "nbconvert_exporter": "python",
   "pygments_lexer": "ipython3",
   "version": "3.10.9"
  }
 },
 "nbformat": 4,
 "nbformat_minor": 5
}
